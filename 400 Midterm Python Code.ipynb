{
 "cells": [
  {
   "cell_type": "markdown",
   "metadata": {},
   "source": [
    "<div class=\"alert alert-block alert-success\"><b>Problem 1:</b> Reebok is designing a new type of Crossfit shoe, the Nano LXIX. The fixed cost for the production will be \\$24,000.The variable cost will be \\$18 per pair of shoes. The shoes will\n",
    "sell for \\$120 for each pair. Graph the cost and revenue functions – either by hand or with\n",
    "Python -- and determine how many pairs of sneakers will have to be sold for the company to\n",
    "break even on this new line of shoes </div>"
   ]
  },
  {
   "cell_type": "markdown",
   "metadata": {},
   "source": [
    "<div class=\"alert alert-block alert-info\">Let <b>x</b> be the number of shoes,<b>C(x)</b> be total cost equation, and <b>R(x)</b> be the total revenue from shoe sales.<br>\n",
    "Our equations look like this:<br>\n",
    "    C(x)=18x +24,000<br>\n",
    "    R(x)=120x</div>"
   ]
  },
  {
   "cell_type": "code",
   "execution_count": 4,
   "metadata": {
    "scrolled": true
   },
   "outputs": [
    {
     "data": {
      "image/png": "[encoded data removed]",
      "text/plain": [
       "<matplotlib.figure.Figure at 0x6e455f12e8>"
      ]
     },
     "metadata": {},
     "output_type": "display_data"
    }
   ],
   "source": [
    "import matplotlib.pyplot as plt\n",
    "import numpy as np\n",
    "plt.style.use('seaborn-whitegrid')\n",
    "# (a) Graph these equations on the same axes\n",
    "\n",
    "plt.figure()\n",
    "q1 = np.linspace(0,500,5)\n",
    "p1 = 18*q1+24000\n",
    "\n",
    "plt.plot(q1, p1, 'b--',label='C(x) = 18x + 24000')\n",
    "\n",
    "q2 = np.linspace(0,500,5)\n",
    "p2 = 120*q2\n",
    "plt.plot(q2, p2, 'r--',label='R(x)=120x')\n",
    "plt.xlabel('# of shoes sold')\n",
    "plt.ylabel('Dollars($)')\n",
    "plt.legend(bbox_to_anchor=(1.05, 1), loc='upper left', borderaxespad=0.)\n",
    "plt.show()"
   ]
  },
  {
   "cell_type": "markdown",
   "metadata": {},
   "source": [
    "We can use matrices to find the exact breakeven point. We'll rewrite C(x) and R(x) as 'Y' for simplicity sake.\n",
    "\n",
    "Our equations will look like this:\n",
    "y - 18x = 24,000\n",
    "y - 120x = 0\n",
    "\n",
    "Our matrices look like this:\n",
    "$$\n",
    "\\begin{bmatrix}\n",
    "    1  &  -18      \\\\\n",
    "    1  &  -120      \n",
    "\\end{bmatrix}\n",
    "%\n",
    "\\begin{bmatrix}\n",
    "   y     \\\\\n",
    "   x      \n",
    "\\end{bmatrix}\n",
    "= \n",
    "\\begin{bmatrix}\n",
    "    24,000      \\\\\n",
    "    0      \n",
    "\\end{bmatrix} \n",
    "$$\n",
    "\n",
    "The matrices we will use in the code below are the following:\n",
    "$$lhs = \\begin{bmatrix} 1 & -18 \\\\ 1 & -120 \\end{bmatrix}$$\n",
    "\n",
    "$$rhs = \\begin{bmatrix} 24,000 \\\\0 \\end{bmatrix}$$\n"
   ]
  },
  {
   "cell_type": "code",
   "execution_count": 5,
   "metadata": {},
   "outputs": [
    {
     "name": "stdout",
     "output_type": "stream",
     "text": [
      "The breakeven point is 236 shoes.\n"
     ]
    }
   ],
   "source": [
    "import math #Note answer is rounded up since we can't sell a fraction of a pair of shoes.\n",
    "# (b) Find the equilibrium quantity\n",
    "lhs = np.array([[1,-18], [1,-120]])\n",
    "rhs = np.array([24000,0])\n",
    "pq = np.linalg.solve(lhs, rhs)\n",
    "print(\"The breakeven point is\",math.ceil(pq[1]),\"shoes.\") "
   ]
  },
  {
   "cell_type": "markdown",
   "metadata": {},
   "source": [
    "<div class=\"alert alert-block alert-success\"><b>Problem 2:</b> Vanessa invests a total of \\$17,500 in three products. She invests one part in a mutual fund which has an annual return of 11%. She invests the second part in government bonds at 7%\n",
    "per year. The third part she puts in CDs at 5% per year. She invests twice as much in the mutual fund as in the CDs. In the first year Vanessa’s investments bring a total return of \\$1495. How much did she invest in each product?</div>"
   ]
  },
  {
   "cell_type": "markdown",
   "metadata": {},
   "source": [
    "<div class=\"alert alert-block alert-info\">Let <b>x</b> be the amount put in a mutual fund, <b>y</b> be the amount invested in government bonds, and <b>z</b> be the amount invested in CDs.<br><br>\n",
    "Now, system of equations is:<br>\n",
    "    x + y + z = 17500<br>\n",
    " 0.11x + 0.07y + 0.05z = 1495<br>\n",
    "         x = 2z<br>\n",
    "\n",
    "Lets use the <i>solve</i> function.\n",
    "</div>"
   ]
  },
  {
   "cell_type": "code",
   "execution_count": 2,
   "metadata": {},
   "outputs": [
    {
     "name": "stdout",
     "output_type": "stream",
     "text": [
      "{x: 9000.00000000000, y: 4000.00000000000, z: 4500.00000000000}\n",
      "The amount invested in each product is $9000 in mutual funds, $4000 in government bonds, and $4500 in CDs.\n"
     ]
    }
   ],
   "source": [
    "import sympy as sym\n",
    "# Use sympy package to display the equation\n",
    "sym.init_printing()\n",
    "#sym.solve()\n",
    "\n",
    "x,y,z = sym.symbols('x,y,z')\n",
    "\n",
    "solns = sym.solve([x+y+z-17500,0.11*x+0.07*y+0.05*z-1495,2*z-x],[x,y,z])\n",
    "solns\n",
    "print(solns)\n",
    "print(\"The amount invested in each product is $9000 in mutual funds, $4000 in government bonds, and $4500 in CDs.\")"
   ]
  },
  {
   "cell_type": "markdown",
   "metadata": {},
   "source": [
    "<div class=\"alert alert-block alert-success\"><b>Problem 3:</b> Vandelay Industries has 252 sales reps in order to sell its latex products, each to be assigned to one of four marketing teams. If the first team is to have three times as many members as the second team and the third team is to have twice as many members as the fourth team, how can the members be distributed among the teams?</div>"
   ]
  },
  {
   "cell_type": "markdown",
   "metadata": {},
   "source": [
    "<div class=\"alert alert-block alert-info\">Let <b>T1</b> be the number of sales reps in the first team, <b>T2</b> be the number of sales reps in the second team,<b>T3</b> be the number of sales reps in the third team, and <b>T4</b> be the number of sales reps in the fourth team.<br><br>\n",
    "Now, system of equations is:<br>\n",
    "    T1 + T2 + T3 + T4 = 252<br>\n",
    "    T1 - 3T2 = 0<br>\n",
    "    T3 - 2T4 = 0<br>\n",
    "\n",
    "Lets use the <i>solve</i> function.\n",
    "</div>"
   ]
  },
  {
   "cell_type": "code",
   "execution_count": 14,
   "metadata": {},
   "outputs": [
    {
     "name": "stdout",
     "output_type": "stream",
     "text": [
      "{T3: 2*T4, T2: -3*T4/4 + 63, T1: -9*T4/4 + 189}\n"
     ]
    }
   ],
   "source": [
    "import sympy as sym\n",
    "T1,T2,T3,T4 = sym.symbols('T1,T2,T3,T4')\n",
    "\n",
    "solns = sym.solve([T1+T2+T3+T4-252,T1-3*T2,T3-2*T4],[T1,T2,T3,T4])\n",
    "solns\n",
    "print(solns)"
   ]
  },
  {
   "cell_type": "markdown",
   "metadata": {},
   "source": [
    "Note, that this solution provides us an answer in terms of T4. This is due to there being infinitely many solutions.\n",
    "However! We have restrictions that there cannot be 'negative' sales reps, or half a sales rep working on a team. It is also a bit unreasonable to have 0 reps on a team.\n",
    "<br>\n",
    " \n",
    "Lets graph these solutions in terms of T4 such that: <br>\n",
    "T1=-9T4/4 +189 <br>\n",
    "T2=-3T4/4+63 <br>\n",
    "T3=2T4 <br>"
   ]
  },
  {
   "cell_type": "code",
   "execution_count": 19,
   "metadata": {},
   "outputs": [
    {
     "data": {
      "image/png": "[encoded data removed]",
      "text/plain": [
       "<matplotlib.figure.Figure at 0x6e47d734e0>"
      ]
     },
     "metadata": {},
     "output_type": "display_data"
    }
   ],
   "source": [
    "import matplotlib.pyplot as plt\n",
    "import numpy as np\n",
    "plt.style.use('seaborn-whitegrid')\n",
    "# (a) Graph these equations on the same axes\n",
    "\n",
    "plt.figure()\n",
    "q1 = np.linspace(0,100,5)\n",
    "p1 = -9*q1/4+189\n",
    "\n",
    "plt.plot(q1, p1, 'b--',label='T1 = -9*T4/4+189')\n",
    "\n",
    "q2 = np.linspace(0,100,5)\n",
    "p2 = -3*q2/4+63\n",
    "\n",
    "plt.plot(q2, p2, 'r--',label='T2=-3*T4/4+63')\n",
    "\n",
    "q3= np.linspace(0,100,5)\n",
    "p3= 2*q3\n",
    "\n",
    "plt.plot(q3, p3, 'g--',label='T3=2*T4')\n",
    "\n",
    "plt.xlabel('# of sales reps in T4')\n",
    "plt.ylabel('sales reps in other teams')\n",
    "plt.legend(bbox_to_anchor=(1.05, 1), loc='upper left', borderaxespad=0.)\n",
    "plt.show()"
   ]
  },
  {
   "cell_type": "markdown",
   "metadata": {},
   "source": [
    "Note that based on the graph, our feasable solutions lies somewhere 'in the triangle' where T4 is approximately between 22 and 84 sales reps.<br>\n",
    "The solution That seems most reasonable to me, is the middle point where T1 and T3 are intersecting, at approximately T4=44.<br>\n",
    "When T4=44: <br>\n",
    "T3= 88\n",
    "T2= 30\n",
    "T1= 90\n",
    "\n",
    "I would suggest that team 1 have 90 sales reps, team 2 have 30 sales reps, team 3 there are 88 sales reps, and in team 4 there are sales reps 44."
   ]
  },
  {
   "cell_type": "markdown",
   "metadata": {},
   "source": [
    "<div class=\"alert alert-block alert-success\"><b>Problem 4:</b> Willie W’s Candy makes three types of artisanal chocolate bars: cherry, almond, and raisin. Matrix A gives the amount of ingredients in one batch. Matrix B gives the costs of ingredients from suppliers J and K. Calculate the cost of 100 batches of each candy using ingredients from supplier K.</div>"
   ]
  },
  {
   "cell_type": "markdown",
   "metadata": {},
   "source": [
    " \\begin{bmatrix}\n",
    "    sug  &  choc  &  milk  & type    \\\\ \n",
    "    6  &  8  &  1 & cherry \\\\ \n",
    "    6  &  4  &  1 & almond \\\\\n",
    "    5  &  7  &  1 & raisin\n",
    "\\end{bmatrix}\n",
    "\n",
    "\\begin{bmatrix}\n",
    "   J  &  K  & type   \\\\\n",
    "   4  &  3 & sug\\\\\n",
    "   4  &  5 & choc\\\\\n",
    "   2  &  2 & milk\n",
    "\\end{bmatrix}"
   ]
  },
  {
   "cell_type": "markdown",
   "metadata": {},
   "source": [
    "<div class=\"alert alert-block alert-info\">First, we need to determine the total amount of ingredients needed to make 100 bars of each bar. We can do this, by multiplying matrix A by the scalar value 100. This gives us the following Matrix:\n",
    "$$\n",
    " \\begin{bmatrix}\n",
    "    sug  &  choc  &  milk  & type    \\\\ \n",
    "    600  &  800  &  100 & cherry \\\\ \n",
    "    600  &  400  &  100 & almond \\\\\n",
    "    500  &  700  &  100 & raisin\n",
    "\\end{bmatrix}\n",
    "$$\n",
    "\n",
    "Now, we can combine the total amount of sugar, chocolate, and milk to create a 1 X 3 matrix which looks like this:\n",
    "$$\n",
    " \\begin{bmatrix}\n",
    "    sug  &  choc  &  milk     \\\\ \n",
    "    1700  &  1900  &  300  \n",
    "\\end{bmatrix}\n",
    "$$\n",
    "\n",
    "Last, we can isolate the part of Matrix B which has the costs from supplier K. This 3 X 1 matrix looks like this:\n",
    "$$\n",
    " \\begin{bmatrix}\n",
    "    K  & type    \\\\ \n",
    "    3  & sugar \\\\ \n",
    "    5  & chocolate \\\\\n",
    "    2  & milk\n",
    "\\end{bmatrix}\n",
    "$$\n",
    "\n",
    "We can muliply the 1 X 3 matrix with the total amount of ingredients, by the 3 X 1 matric with the cost per ingredients like so:\n",
    "$$\n",
    " \\begin{bmatrix} \n",
    "    1700  &  1900  &  300  \\\\ \n",
    "\\end{bmatrix}\n",
    "%\n",
    " \\begin{bmatrix} \n",
    "    3   \\\\ \n",
    "    5   \\\\\n",
    "    2  \n",
    "\\end{bmatrix}\n",
    "$$"
   ]
  },
  {
   "cell_type": "code",
   "execution_count": 15,
   "metadata": {},
   "outputs": [
    {
     "name": "stdout",
     "output_type": "stream",
     "text": [
      "The total cost for 100 batches of each type f bar from supplier K is $ [15200] .\n"
     ]
    }
   ],
   "source": [
    "import numpy as np\n",
    "a = np.array([[1700], [1900], [300]])\n",
    "b = np.array([3,5,2])\n",
    "ab = np.matmul(b,a)\n",
    "print(\"The total cost for 100 batches of each type of bar from supplier K is $\",ab,\".\") "
   ]
  },
  {
   "cell_type": "markdown",
   "metadata": {},
   "source": [
    "<div class=\"alert alert-block alert-success\"><b>Problem 5:</b> Welsh-Ryan Arena seats 15,000 people. Courtside seats cost \\$8, first level seats cost \\$6, and upper deck seats cost \\$4. The total revenue for a sellout is \\$76,000. If half the courtside seats, half the upper deck seats, and all the first level seats are sold, then the total revenue is \\$44,000. How many of each type of seat are there? </div>"
   ]
  },
  {
   "cell_type": "markdown",
   "metadata": {},
   "source": [
    "<div class=\"alert alert-block alert-info\">Let <b>x</b> be the total number of courtside seats, <b>y</b> be the total number of first level seats, and <b>z</b> be the total number of upper deck seats.<br>\n",
    "Now, system of equations for this problems looks like so:<br>\n",
    "    x + y + z = 15000<br>\n",
    "   8x + 6y + 4z = 76000<br>\n",
    "    8(x/2) + 6y + 4(z/2)  = 44000<br>\n",
    "\n",
    "Lets use the <i>solve</i> function again here.\n",
    "</div>"
   ]
  },
  {
   "cell_type": "code",
   "execution_count": 1,
   "metadata": {},
   "outputs": [
    {
     "name": "stdout",
     "output_type": "stream",
     "text": [
      "{x: 3000, y: 2000, z: 10000}\n",
      "There are a total of 3,000 courtside seats, 2,000 first level seats, and 10,000 upper deck seats.\n"
     ]
    }
   ],
   "source": [
    "import sympy as sym\n",
    "# Use sympy package to display the equation\n",
    "sym.init_printing()\n",
    "#sym.solve()\n",
    "\n",
    "x,y,z = sym.symbols('x,y,z')\n",
    "\n",
    "solns = sym.solve([x+y+z-15000,8*x+6*y+4*z-76000,8*x/2+6*y+4*z/2-44000],[x,y,z])\n",
    "solns\n",
    "print(solns)\n",
    "print(\"There are a total of 3,000 courtside seats, 2,000 first level seats, and 10,000 upper deck seats.\")"
   ]
  },
  {
   "cell_type": "markdown",
   "metadata": {},
   "source": [
    "<div class=\"alert alert-block alert-success\"><b>Problem 6:</b> Due to new environmental restrictions, Hoch Industries must use a new process to reduce pollution. The old process emits 6 g of Sulphur and 3 g of lead per liter of chemical made. The new process emits 2 g of Sulphur and 4 g of lead per liter of chemical made. The company makes a profit of 25¢ per liter under the old process and 16¢ per liter under the new process. No more than 18,000 g of Sulphur and no more than 12,000 g of lead can be emitted daily. How many liters of chemicals should be made daily under each process to maximize profits? What is the maximum profit?</div>"
   ]
  },
  {
   "cell_type": "markdown",
   "metadata": {},
   "source": [
    "<div class=\"alert alert-block alert-info\">Let <b>z</b> be the maximized profits, <b>x</b> be the total amount of sulpher produced, and <b>y</b> be the total amount of lead produced.<br>\n",
    "\n",
    "<br>Maximize: z = .25x + .16y \n",
    "<br>subject to: 6x + 2y ≤ 18,000 \n",
    "<br>3x + 4y ≤ 12000\n",
    "x ≥ 0, y ≥ 0\n",
    "</div>"
   ]
  },
  {
   "cell_type": "code",
   "execution_count": 3,
   "metadata": {},
   "outputs": [
    {
     "name": "stdout",
     "output_type": "stream",
     "text": [
      "The maximum occurs at the point ( 2666.6667 , 1000.0 )\n",
      "The daily amount of liters pade in process 1 is 18000.0\n",
      "The daily amount of liters pade in process 2 is 12000.0\n",
      "Maximized profit is $ 826.67\n"
     ]
    }
   ],
   "source": [
    "from pulp import LpVariable, LpProblem, LpMaximize, LpStatus, value, LpMinimize\n",
    "\n",
    "# declare your variables\n",
    "x = LpVariable(\"x\", 0, None) # x>=0\n",
    "y = LpVariable(\"y\", 0, None) # y>=0\n",
    "\n",
    "# defines the problem\n",
    "prob = LpProblem(\"problem\", LpMaximize)\n",
    "\n",
    "# defines the constraints\n",
    "prob += 6*x + 2*y <= 18000 #Total amount of Sulphur produced\n",
    "prob += 3*x + 4*y <= 12000 #Total amount of Lead produced\n",
    "\n",
    "# defines the objective function to maximize\n",
    "prob += .25*x + .16*y\n",
    "\n",
    "# solve the problem\n",
    "status = prob.solve()\n",
    "LpStatus[status]\n",
    "\n",
    "# print the results \n",
    "print(\"The maximum occurs at the point (\",value(x),\",\",value(y),\")\")   \n",
    "print(\"The daily amount of liters made in process 1 is\",round(6*value(x) +2* value(y), 2))\n",
    "print(\"The daily amount of liters made in process 2 is\",round(3*value(x) +4* value(y), 2))\n",
    "print(\"Maximized profit is $\",round(.25*value(x) +.16* value(y), 2))\n"
   ]
  },
  {
   "cell_type": "markdown",
   "metadata": {},
   "source": [
    "<div class=\"alert alert-block alert-success\"><b>Problem 7:</b> Northwestern is looking to hire teachers and TA’s to fill its staffing needs for its summer program at minimum cost. The average monthly salary of a teacher is \\$2400 and the average\n",
    "monthly salary of a TA is \\$1100. The program can accommodate up to 45 staff members and needs at least 30 to run properly. They must have at least 10 TA’s and may have up to 3 TA’s for every 2 teachers. How many teachers and TA’s the should the program hire to minimize costs. What is the minimum cost?</div>"
   ]
  },
  {
   "cell_type": "markdown",
   "metadata": {},
   "source": [
    "<div class=\"alert alert-block alert-info\">\n",
    "   **Solution:**Let x be the number of teachers <br>\n",
    "Let y be the number of TAs <br>\n",
    "\n",
    "Cost to be minimized = 2400 x + 1100 y <br>\n",
    "Subject to:\n",
    "* x + y ≤ 45\n",
    "* x + y ≥ 30 \n",
    "* 3y ≤ 2x \n",
    "* x ≥ 0 y ≥ 10  \n",
    " \n",
    "</div>"
   ]
  },
  {
   "cell_type": "code",
   "execution_count": 4,
   "metadata": {},
   "outputs": [
    {
     "name": "stdout",
     "output_type": "stream",
     "text": [
      "Number of Teachers = 12.0\n",
      "Number of TAs = 18.0\n",
      "Minimum Cost is $48600.0\n"
     ]
    }
   ],
   "source": [
    "from pulp import LpVariable, LpProblem, LpMaximize, GLPK, LpStatus, value, LpMinimize\n",
    "\n",
    "model = LpProblem(\"problem\", LpMinimize)\n",
    "x = LpVariable(\"x\", 0, None) # x >= 0\n",
    "y = LpVariable(\"y\", 10, None) # y >= 10\n",
    "\n",
    "\n",
    "model += x + y <= 45\n",
    "model += x + y >= 30\n",
    "model += 3*x - 2*y >= 0\n",
    "\n",
    "model += 2400*x + 1100*y\n",
    "\n",
    "# solve the problem\n",
    "status = model.solve()\n",
    "LpStatus[status]\n",
    "\n",
    "print('Number of Teachers = {}'.format(value(x),'%d'))\n",
    "print('Number of TAs = {}'.format(value(y),'%d'))\n",
    "\n",
    "minimum_cost = 2400 * value(x) + 1100 * value(y) \n",
    "\n",
    "print('Minimum Cost is ${}'.format(minimum_cost,'%.2f'))"
   ]
  },
  {
   "cell_type": "markdown",
   "metadata": {},
   "source": [
    "<div class=\"alert alert-block alert-success\"><b>Problem 8:</b> To be at his best as an athlete, Jimmy needs at least 10 units of vitamin A, 12 units of vitamin B, and 20 units of vitamin C per day. Pill \\#1 contains 4 units of A and 3 of B. Pill \\#2 contains 1 unit of A, 2 of B, and 4 of C. Pill \\#3 contains 10 units of A, 1 of B, and 5 of C. Pill \\#1 costs 6 cents, pill \\#2 costs 8 cents, and pill \\#3 costs 1 cent. How many of each pill must Jimmy take to minimize his cost, and what is that cost?</div>"
   ]
  },
  {
   "cell_type": "markdown",
   "metadata": {},
   "source": [
    "<div class=\"alert alert-block alert-info\">Let <b>p1</b>,<b>p2</b>,<b>p3</b> and <b>c</b> be the amount of Pill \\#1, Pill \\#2, Pill \\#3, and total cost of all the pills respectively. <br/>\n",
    "    \n",
    "Minimize: c = 6p1 + 8p2 +p3 <br>\n",
    "subject to: 4p1 + p2 + 10p3 ≥ 10 <br>\n",
    "3p1 + 2p2 + p3 ≥ 12 <br>\n",
    "4p2 + 5p3 ≥ 20 <br>\n",
    "p1 ≥ 0, p2 ≥ 0, p3 ≥ 0 <br>\n",
    "\n",
    "</div>"
   ]
  },
  {
   "cell_type": "code",
   "execution_count": 5,
   "metadata": {},
   "outputs": [
    {
     "name": "stdout",
     "output_type": "stream",
     "text": [
      "He should buy 0 of pill 1, 0 of pill 2, and 12 of pill 3.\n",
      "The minimum cost is $ 0.12\n"
     ]
    }
   ],
   "source": [
    "from pulp import LpVariable, LpProblem, LpMaximize, LpStatus, value, LpMinimize\n",
    "\n",
    "# declare your variables\n",
    "p1 = LpVariable(\"p1\", 0, None) # p1>=0\n",
    "p2 = LpVariable(\"p2\", 0, None) # p2>=0\n",
    "p3 = LpVariable(\"p3\", 0, None) # p3>=0\n",
    "\n",
    "# defines the problem\n",
    "prob = LpProblem(\"problem\", LpMinimize)\n",
    "\n",
    "# defines the constraints\n",
    "prob += 4*p1 + p2 + 10*p3 >= 10\n",
    "prob += 3*p1 + 2*p2 + p3 >= 12 \n",
    "prob += 4*p2 + 5*p3 >= 20 \n",
    "\n",
    "# defines the objective function to maximize\n",
    "prob += 6*p1 + 8*p2 + p3\n",
    "\n",
    "# solve the problem\n",
    "status = prob.solve()\n",
    "LpStatus[status]\n",
    "\n",
    "# print the results (integer values)\n",
    "print(\"He should buy\",int(value(p1)),\"of pill 1,\",int(value(p2)),\"of pill 2, and\",int(value(p3)),\"of pill 3.\")\n",
    "print(\"The minimum cost is $\",(6*value(p1)/100) + 8* (value(p2)/100)+ (value(p3)/100))"
   ]
  },
  {
   "cell_type": "markdown",
   "metadata": {},
   "source": [
    "<div class=\"alert alert-block alert-success\"><b>Problem 9:</b> Better Buy stocks Blu-ray DVD players, surround sound systems, and Smart TVs. They have limited storage space and can stock a maximum of 210 of these three machines. They know from past experience that they should stock twice as many DVD players as stereo systems and at least 30 TVs. If each DVD player sells for \\$450, each surround sound system sells for \\$2000, and each TV sells for \\$750, how many of each should be stocked and sold for\n",
    "maximum revenues? What is the maximum revenue?</div>"
   ]
  },
  {
   "cell_type": "markdown",
   "metadata": {},
   "source": [
    "<div class=\"alert alert-block alert-info\">Let <b>a</b>,<b>b</b>,<b>c</b> and <b>d</b> be the amount of DVD Plavers, amount of surround sound systems, amount of Smart TVs, and total revenue generated by Better Buy, respectively. <br/>\n",
    "    \n",
    "Maximize: d = 450a + 2000b + 750c <br>\n",
    "subject to: a + b + c ≤ 210 <br>\n",
    "a=2b <br>\n",
    "a ≥ 0, b ≥ 0, c ≥ 30 <br>\n",
    "\n",
    "</div>"
   ]
  },
  {
   "cell_type": "code",
   "execution_count": 41,
   "metadata": {},
   "outputs": [
    {
     "name": "stdout",
     "output_type": "stream",
     "text": [
      "He should have 120 DVD players, 60 surround sound systems, and 30 Smart TVs.\n",
      "The maximized revenue is $ 196500.0\n"
     ]
    }
   ],
   "source": [
    "from pulp import LpVariable, LpProblem, LpMaximize, LpStatus, value, LpMinimize\n",
    "\n",
    "# declare your variables\n",
    "a = LpVariable(\"a\", 0, None) # a>=0\n",
    "b = LpVariable(\"b\", 0, None) # b>=0\n",
    "c = LpVariable(\"c\", 30, None) # c>=30\n",
    "\n",
    "# defines the problem\n",
    "prob = LpProblem(\"problem\", LpMaximize)\n",
    "\n",
    "# defines the constraints\n",
    "prob += a + b + c <= 210 #Total amount of devices stored\n",
    "prob += a - 2*b >= 0 #Twice as many dvd players as surround sound systems\n",
    "\n",
    "# defines the objective function to maximize\n",
    "prob += 450*a + 2000*b + 750*c\n",
    "\n",
    "# solve the problem\n",
    "status = prob.solve()\n",
    "LpStatus[status]\n",
    "\n",
    "# print the results\n",
    "print(\"He should have\",int(value(a)),\"DVD players,\",int(value(b)),\"surround sound systems, and\",int(value(c)),\"Smart TVs.\")\n",
    "print(\"The maximized revenue is $\",(450*value(a)) + 2000*(value(b))+ 750*(value(c)))"
   ]
  },
  {
   "cell_type": "markdown",
   "metadata": {},
   "source": [
    "<div class=\"alert alert-block alert-success\"><b>Problem 10:</b> McDowell’s is conducting a sweepstakes, and ships two boxes of game pieces to a particular franchise. Box A has 4% of its contents being winners, while 5% of the contents of box B are\n",
    "winners. Box A contains 27% of the total tickets. The contents of both boxes are mixed in a drawer and a ticket is chosen at random. Find the probability it came from box A if it is a winner.</div>"
   ]
  },
  {
   "cell_type": "markdown",
   "metadata": {},
   "source": [
    "<div class=\"alert alert-block alert-info\"><b>Solution:</b> \n",
    "Suppose that A is the event that the ticket is from Box A, and W is the event that the ticket wins.<br/>\n",
    "    P(A) = 0.27 <br/>\n",
    "    P(W | A) = 0.04 <br/>\n",
    "    P(W'| A) = 0.96 <br/>\n",
    "    <br/>\n",
    "    P(A') = 0.73 <br/>\n",
    "    P(W | A') = 0.05 <br/>\n",
    "    P(W'| A') = 0.95<br/>\n",
    "    <br/>\n",
    "    We have to find P(A | W)<br/>\n",
    "    <br/>\n",
    "    P(A ∩ W) = P(A) * P(W | A)<br/>\n",
    "    P(W) = P(A ∩ W) + P(A'∩ W) = P(A) * P(W | A) + P(A') * P(W | A')<br/>\n",
    "    P(A | W) = P(A ∩ W)/P(W)<br/>\n",
    "    See calculations below.\n",
    "</div>\n"
   ]
  },
  {
   "cell_type": "code",
   "execution_count": 24,
   "metadata": {},
   "outputs": [
    {
     "name": "stdout",
     "output_type": "stream",
     "text": [
      "P(A|W)= 0.22833\n"
     ]
    }
   ],
   "source": [
    "Prob_A_AND_W = 0.27*0.04\n",
    "Prob_W = 0.27*0.04 + 0.73*0.05\n",
    "print(\"P(A|W)=\",round(Prob_A_AND_W/Prob_W,5))"
   ]
  }
 ],
 "metadata": {
  "kernelspec": {
   "display_name": "Python 3",
   "language": "python",
   "name": "python3"
  },
  "language_info": {
   "codemirror_mode": {
    "name": "ipython",
    "version": 3
   },
   "file_extension": ".py",
   "mimetype": "text/x-python",
   "name": "python",
   "nbconvert_exporter": "python",
   "pygments_lexer": "ipython3",
   "version": "3.7.6"
  }
 },
 "nbformat": 4,
 "nbformat_minor": 2
}
