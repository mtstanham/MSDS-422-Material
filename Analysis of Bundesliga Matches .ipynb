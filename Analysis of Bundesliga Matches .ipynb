{
 "cells": [
  {
   "cell_type": "code",
   "execution_count": 1,
   "metadata": {},
   "outputs": [],
   "source": [
    "#pip install researchpy\n",
    "import pandas as pd\n",
    "import numpy as np\n",
    "from scipy import stats\n",
    "import scipy.stats.distributions as dist\n",
    "import researchpy as rp"
   ]
  },
  {
   "cell_type": "code",
   "execution_count": 12,
   "metadata": {
    "scrolled": true
   },
   "outputs": [
    {
     "name": "stdout",
     "output_type": "stream",
     "text": [
      "<class 'pandas.core.frame.DataFrame'>\n",
      "RangeIndex: 1440 entries, 0 to 1439\n",
      "Data columns (total 30 columns):\n",
      " #   Column               Non-Null Count  Dtype \n",
      "---  ------               --------------  ----- \n",
      " 0   Unnamed: 0           1440 non-null   int64 \n",
      " 1   Season               1440 non-null   object\n",
      " 2   Date                 1440 non-null   object\n",
      " 3   Home                 1440 non-null   object\n",
      " 4   Away                 1440 non-null   object\n",
      " 5   Attendance           1440 non-null   int64 \n",
      " 6   Venue                1440 non-null   object\n",
      " 7   URL                  1440 non-null   object\n",
      " 8   HomeGoal             1440 non-null   int64 \n",
      " 9   AwayGoal             1440 non-null   int64 \n",
      " 10  HomePossession       1440 non-null   object\n",
      " 11  HomePassesCompleted  1440 non-null   int64 \n",
      " 12  HomePassesAttempts   1440 non-null   int64 \n",
      " 13  HomeShotsonTarget    1440 non-null   int64 \n",
      " 14  HomeShots            1440 non-null   int64 \n",
      " 15  HomeFouls            1440 non-null   int64 \n",
      " 16  HomeTackles          1440 non-null   int64 \n",
      " 17  HomeInterceptions    1440 non-null   int64 \n",
      " 18  HomeYellow           1440 non-null   int64 \n",
      " 19  HomeRed              1440 non-null   int64 \n",
      " 20  AwayPossession       1440 non-null   object\n",
      " 21  AwayPassesCompleted  1440 non-null   int64 \n",
      " 22  AwayPassesAttempts   1440 non-null   int64 \n",
      " 23  AwayShotsonTarget    1440 non-null   int64 \n",
      " 24  AwayShots            1440 non-null   int64 \n",
      " 25  AwayFouls            1440 non-null   int64 \n",
      " 26  AwayTackles          1440 non-null   int64 \n",
      " 27  AwayInterceptions    1440 non-null   int64 \n",
      " 28  AwayYellow           1440 non-null   int64 \n",
      " 29  AwayRed              1440 non-null   int64 \n",
      "dtypes: int64(22), object(8)\n",
      "memory usage: 337.6+ KB\n"
     ]
    }
   ],
   "source": [
    "df = pd.read_csv(\"FinalData.csv\")\n",
    "df.info()"
   ]
  },
  {
   "cell_type": "code",
   "execution_count": 13,
   "metadata": {},
   "outputs": [],
   "source": [
    "def homeresult(c):\n",
    "    if c['HomeGoal']>c['AwayGoal']:\n",
    "        return 'W'\n",
    "    elif c['HomeGoal']<c['AwayGoal']:\n",
    "        return 'L'\n",
    "    else:\n",
    "        return 'T'\n",
    "df[\"HomeResult\"]= df.apply(homeresult,axis=1)"
   ]
  },
  {
   "cell_type": "code",
   "execution_count": 14,
   "metadata": {},
   "outputs": [],
   "source": [
    "def varGames(c):\n",
    "    if (c['Season']=='17-18') or (c['Season']=='18-19') or (c['Season']=='19-20') or (c['Season']=='20-21'):\n",
    "        return 'VAR' \n",
    "    else:\n",
    "        return 'NoVAR'\n",
    "df['VarPresent']=df.apply(varGames,axis=1)"
   ]
  },
  {
   "cell_type": "code",
   "execution_count": 15,
   "metadata": {},
   "outputs": [],
   "source": [
    "def attendance(c):\n",
    "    if c['Attendance']==0:\n",
    "        return \"NoFans\"\n",
    "    else:\n",
    "        return \"Fans\"\n",
    "\n",
    "df['BiAttendance']=df.apply(attendance,axis=1)"
   ]
  },
  {
   "cell_type": "code",
   "execution_count": 16,
   "metadata": {},
   "outputs": [],
   "source": [
    "df['GoalDifferential']=df['HomeGoal']+df['AwayGoal']\n",
    "df['HomePassAccuracy']=df['HomePassesCompleted']/df['HomePassesAttempts']\n",
    "df['HomeTandInt']=df['HomeTackles']+df['HomeInterceptions']\n",
    "df['AwayFoulsandYRcards']= df['AwayFouls']+2*df['AwayYellow']+4*df['AwayRed']\n",
    "df['HomeFoulsandYRcards']= df['HomeFouls']+2*df['HomeYellow']+4*df['HomeRed']"
   ]
  },
  {
   "cell_type": "code",
   "execution_count": 17,
   "metadata": {},
   "outputs": [
    {
     "data": {
      "text/plain": [
       "16-17    306\n",
       "18-19    306\n",
       "19-20    306\n",
       "17-18    306\n",
       "20-21    216\n",
       "Name: Season, dtype: int64"
      ]
     },
     "execution_count": 17,
     "metadata": {},
     "output_type": "execute_result"
    }
   ],
   "source": [
    "df['Season'].value_counts()"
   ]
  },
  {
   "cell_type": "code",
   "execution_count": 18,
   "metadata": {},
   "outputs": [],
   "source": [
    "NoVarGames=df[df['VarPresent']=='NoVAR']\n",
    "VarGames=df[df['VarPresent']=='VAR']\n",
    "Fans= df[df['Attendance']!=0]\n",
    "NoFans= df[df['Attendance']==0]"
   ]
  },
  {
   "cell_type": "code",
   "execution_count": 19,
   "metadata": {},
   "outputs": [
    {
     "data": {
      "text/plain": [
       "20-21    184\n",
       "19-20     83\n",
       "Name: Season, dtype: int64"
      ]
     },
     "execution_count": 19,
     "metadata": {},
     "output_type": "execute_result"
    }
   ],
   "source": [
    "No_Fans= df[df['Attendance']==0]\n",
    "No_Fans['Season'].value_counts()"
   ]
  },
  {
   "cell_type": "code",
   "execution_count": 20,
   "metadata": {},
   "outputs": [
    {
     "data": {
      "text/html": [
       "<div>\n",
       "<style scoped>\n",
       "    .dataframe tbody tr th:only-of-type {\n",
       "        vertical-align: middle;\n",
       "    }\n",
       "\n",
       "    .dataframe tbody tr th {\n",
       "        vertical-align: top;\n",
       "    }\n",
       "\n",
       "    .dataframe thead th {\n",
       "        text-align: right;\n",
       "    }\n",
       "</style>\n",
       "<table border=\"1\" class=\"dataframe\">\n",
       "  <thead>\n",
       "    <tr style=\"text-align: right;\">\n",
       "      <th>VarPresent</th>\n",
       "      <th>NoVAR</th>\n",
       "      <th>VAR</th>\n",
       "    </tr>\n",
       "    <tr>\n",
       "      <th>BiAttendance</th>\n",
       "      <th></th>\n",
       "      <th></th>\n",
       "    </tr>\n",
       "  </thead>\n",
       "  <tbody>\n",
       "    <tr>\n",
       "      <th>Fans</th>\n",
       "      <td>306</td>\n",
       "      <td>867</td>\n",
       "    </tr>\n",
       "    <tr>\n",
       "      <th>NoFans</th>\n",
       "      <td>0</td>\n",
       "      <td>267</td>\n",
       "    </tr>\n",
       "  </tbody>\n",
       "</table>\n",
       "</div>"
      ],
      "text/plain": [
       "VarPresent    NoVAR  VAR\n",
       "BiAttendance            \n",
       "Fans            306  867\n",
       "NoFans            0  267"
      ]
     },
     "execution_count": 20,
     "metadata": {},
     "output_type": "execute_result"
    }
   ],
   "source": [
    "Table= pd.crosstab(df.BiAttendance,df.VarPresent)\n",
    "Table"
   ]
  },
  {
   "cell_type": "code",
   "execution_count": 64,
   "metadata": {},
   "outputs": [
    {
     "data": {
      "text/html": [
       "<div>\n",
       "<style scoped>\n",
       "    .dataframe tbody tr th:only-of-type {\n",
       "        vertical-align: middle;\n",
       "    }\n",
       "\n",
       "    .dataframe tbody tr th {\n",
       "        vertical-align: top;\n",
       "    }\n",
       "\n",
       "    .dataframe thead th {\n",
       "        text-align: right;\n",
       "    }\n",
       "</style>\n",
       "<table border=\"1\" class=\"dataframe\">\n",
       "  <thead>\n",
       "    <tr style=\"text-align: right;\">\n",
       "      <th>BiAttendance</th>\n",
       "      <th>Fans</th>\n",
       "      <th>NoFans</th>\n",
       "    </tr>\n",
       "    <tr>\n",
       "      <th>Home</th>\n",
       "      <th></th>\n",
       "      <th></th>\n",
       "    </tr>\n",
       "  </thead>\n",
       "  <tbody>\n",
       "    <tr>\n",
       "      <th>Arminia</th>\n",
       "      <td>1</td>\n",
       "      <td>12</td>\n",
       "    </tr>\n",
       "    <tr>\n",
       "      <th>Augsburg</th>\n",
       "      <td>47</td>\n",
       "      <td>16</td>\n",
       "    </tr>\n",
       "    <tr>\n",
       "      <th>Bayern Munich</th>\n",
       "      <td>47</td>\n",
       "      <td>16</td>\n",
       "    </tr>\n",
       "    <tr>\n",
       "      <th>Dortmund</th>\n",
       "      <td>49</td>\n",
       "      <td>13</td>\n",
       "    </tr>\n",
       "    <tr>\n",
       "      <th>Düsseldorf</th>\n",
       "      <td>29</td>\n",
       "      <td>5</td>\n",
       "    </tr>\n",
       "    <tr>\n",
       "      <th>Eint Frankfurt</th>\n",
       "      <td>48</td>\n",
       "      <td>15</td>\n",
       "    </tr>\n",
       "    <tr>\n",
       "      <th>Freiburg</th>\n",
       "      <td>47</td>\n",
       "      <td>17</td>\n",
       "    </tr>\n",
       "    <tr>\n",
       "      <th>Hamburger SV</th>\n",
       "      <td>17</td>\n",
       "      <td>0</td>\n",
       "    </tr>\n",
       "    <tr>\n",
       "      <th>Hannover 96</th>\n",
       "      <td>34</td>\n",
       "      <td>0</td>\n",
       "    </tr>\n",
       "    <tr>\n",
       "      <th>Hertha BSC</th>\n",
       "      <td>49</td>\n",
       "      <td>14</td>\n",
       "    </tr>\n",
       "    <tr>\n",
       "      <th>Hoffenheim</th>\n",
       "      <td>48</td>\n",
       "      <td>15</td>\n",
       "    </tr>\n",
       "    <tr>\n",
       "      <th>Köln</th>\n",
       "      <td>31</td>\n",
       "      <td>15</td>\n",
       "    </tr>\n",
       "    <tr>\n",
       "      <th>Leverkusen</th>\n",
       "      <td>48</td>\n",
       "      <td>15</td>\n",
       "    </tr>\n",
       "    <tr>\n",
       "      <th>M'Gladbach</th>\n",
       "      <td>48</td>\n",
       "      <td>16</td>\n",
       "    </tr>\n",
       "    <tr>\n",
       "      <th>Mainz 05</th>\n",
       "      <td>50</td>\n",
       "      <td>13</td>\n",
       "    </tr>\n",
       "    <tr>\n",
       "      <th>Nürnberg</th>\n",
       "      <td>17</td>\n",
       "      <td>0</td>\n",
       "    </tr>\n",
       "    <tr>\n",
       "      <th>Paderborn 07</th>\n",
       "      <td>13</td>\n",
       "      <td>4</td>\n",
       "    </tr>\n",
       "    <tr>\n",
       "      <th>RB Leipzig</th>\n",
       "      <td>49</td>\n",
       "      <td>14</td>\n",
       "    </tr>\n",
       "    <tr>\n",
       "      <th>Schalke 04</th>\n",
       "      <td>48</td>\n",
       "      <td>16</td>\n",
       "    </tr>\n",
       "    <tr>\n",
       "      <th>Stuttgart</th>\n",
       "      <td>36</td>\n",
       "      <td>9</td>\n",
       "    </tr>\n",
       "    <tr>\n",
       "      <th>Union Berlin</th>\n",
       "      <td>15</td>\n",
       "      <td>14</td>\n",
       "    </tr>\n",
       "    <tr>\n",
       "      <th>Werder Bremen</th>\n",
       "      <td>47</td>\n",
       "      <td>15</td>\n",
       "    </tr>\n",
       "    <tr>\n",
       "      <th>Wolfsburg</th>\n",
       "      <td>49</td>\n",
       "      <td>13</td>\n",
       "    </tr>\n",
       "  </tbody>\n",
       "</table>\n",
       "</div>"
      ],
      "text/plain": [
       "BiAttendance    Fans  NoFans\n",
       "Home                        \n",
       "Arminia            1      12\n",
       "Augsburg          47      16\n",
       "Bayern Munich     47      16\n",
       "Dortmund          49      13\n",
       "Düsseldorf        29       5\n",
       "Eint Frankfurt    48      15\n",
       "Freiburg          47      17\n",
       "Hamburger SV      17       0\n",
       "Hannover 96       34       0\n",
       "Hertha BSC        49      14\n",
       "Hoffenheim        48      15\n",
       "Köln              31      15\n",
       "Leverkusen        48      15\n",
       "M'Gladbach        48      16\n",
       "Mainz 05          50      13\n",
       "Nürnberg          17       0\n",
       "Paderborn 07      13       4\n",
       "RB Leipzig        49      14\n",
       "Schalke 04        48      16\n",
       "Stuttgart         36       9\n",
       "Union Berlin      15      14\n",
       "Werder Bremen     47      15\n",
       "Wolfsburg         49      13"
      ]
     },
     "execution_count": 64,
     "metadata": {},
     "output_type": "execute_result"
    }
   ],
   "source": [
    "Table= pd.crosstab(VarGames.Home,VarGames.BiAttendance)\n",
    "Table"
   ]
  },
  {
   "cell_type": "markdown",
   "metadata": {},
   "source": [
    "## Measuring the Impact of VAR with Fans"
   ]
  },
  {
   "cell_type": "code",
   "execution_count": 21,
   "metadata": {},
   "outputs": [
    {
     "data": {
      "text/html": [
       "<div>\n",
       "<style scoped>\n",
       "    .dataframe tbody tr th:only-of-type {\n",
       "        vertical-align: middle;\n",
       "    }\n",
       "\n",
       "    .dataframe tbody tr th {\n",
       "        vertical-align: top;\n",
       "    }\n",
       "\n",
       "    .dataframe thead th {\n",
       "        text-align: right;\n",
       "    }\n",
       "</style>\n",
       "<table border=\"1\" class=\"dataframe\">\n",
       "  <thead>\n",
       "    <tr style=\"text-align: right;\">\n",
       "      <th>VarPresent</th>\n",
       "      <th>NoVAR</th>\n",
       "      <th>VAR</th>\n",
       "    </tr>\n",
       "    <tr>\n",
       "      <th>HomeResult</th>\n",
       "      <th></th>\n",
       "      <th></th>\n",
       "    </tr>\n",
       "  </thead>\n",
       "  <tbody>\n",
       "    <tr>\n",
       "      <th>L</th>\n",
       "      <td>82</td>\n",
       "      <td>267</td>\n",
       "    </tr>\n",
       "    <tr>\n",
       "      <th>T</th>\n",
       "      <td>74</td>\n",
       "      <td>215</td>\n",
       "    </tr>\n",
       "    <tr>\n",
       "      <th>W</th>\n",
       "      <td>150</td>\n",
       "      <td>385</td>\n",
       "    </tr>\n",
       "  </tbody>\n",
       "</table>\n",
       "</div>"
      ],
      "text/plain": [
       "VarPresent  NoVAR  VAR\n",
       "HomeResult            \n",
       "L              82  267\n",
       "T              74  215\n",
       "W             150  385"
      ]
     },
     "execution_count": 21,
     "metadata": {},
     "output_type": "execute_result"
    }
   ],
   "source": [
    "Table= pd.crosstab(Fans.HomeResult,Fans.VarPresent)\n",
    "Table"
   ]
  },
  {
   "cell_type": "code",
   "execution_count": 22,
   "metadata": {},
   "outputs": [
    {
     "data": {
      "text/html": [
       "<div>\n",
       "<style scoped>\n",
       "    .dataframe tbody tr th:only-of-type {\n",
       "        vertical-align: middle;\n",
       "    }\n",
       "\n",
       "    .dataframe tbody tr th {\n",
       "        vertical-align: top;\n",
       "    }\n",
       "\n",
       "    .dataframe thead th {\n",
       "        text-align: right;\n",
       "    }\n",
       "</style>\n",
       "<table border=\"1\" class=\"dataframe\">\n",
       "  <thead>\n",
       "    <tr style=\"text-align: right;\">\n",
       "      <th>VarPresent</th>\n",
       "      <th>NoVAR</th>\n",
       "      <th>VAR</th>\n",
       "    </tr>\n",
       "    <tr>\n",
       "      <th>HomeResult</th>\n",
       "      <th></th>\n",
       "      <th></th>\n",
       "    </tr>\n",
       "  </thead>\n",
       "  <tbody>\n",
       "    <tr>\n",
       "      <th>L</th>\n",
       "      <td>0.267974</td>\n",
       "      <td>0.307958</td>\n",
       "    </tr>\n",
       "    <tr>\n",
       "      <th>T</th>\n",
       "      <td>0.241830</td>\n",
       "      <td>0.247982</td>\n",
       "    </tr>\n",
       "    <tr>\n",
       "      <th>W</th>\n",
       "      <td>0.490196</td>\n",
       "      <td>0.444060</td>\n",
       "    </tr>\n",
       "  </tbody>\n",
       "</table>\n",
       "</div>"
      ],
      "text/plain": [
       "VarPresent     NoVAR       VAR\n",
       "HomeResult                    \n",
       "L           0.267974  0.307958\n",
       "T           0.241830  0.247982\n",
       "W           0.490196  0.444060"
      ]
     },
     "execution_count": 22,
     "metadata": {},
     "output_type": "execute_result"
    }
   ],
   "source": [
    "pd.crosstab(Fans.HomeResult,Fans.VarPresent).apply(lambda r:r/r.sum(),axis=0)"
   ]
  },
  {
   "cell_type": "code",
   "execution_count": 23,
   "metadata": {},
   "outputs": [],
   "source": [
    "total_proportion_Won = (Fans.HomeResult == \"W\").mean()\n",
    "num_NoVAR=Fans[Fans.BiAttendance==\"NoVAR\"].shape[0]\n",
    "num_VAR=Fans[Fans.BiAttendance==\"VAR\"].shape[0]"
   ]
  },
  {
   "cell_type": "code",
   "execution_count": 24,
   "metadata": {},
   "outputs": [
    {
     "data": {
      "text/html": [
       "<div>\n",
       "<style scoped>\n",
       "    .dataframe tbody tr th:only-of-type {\n",
       "        vertical-align: middle;\n",
       "    }\n",
       "\n",
       "    .dataframe tbody tr th {\n",
       "        vertical-align: top;\n",
       "    }\n",
       "\n",
       "    .dataframe thead th {\n",
       "        text-align: right;\n",
       "    }\n",
       "</style>\n",
       "<table border=\"1\" class=\"dataframe\">\n",
       "  <thead>\n",
       "    <tr style=\"text-align: right;\">\n",
       "      <th></th>\n",
       "      <th>prop_won</th>\n",
       "      <th>counts</th>\n",
       "    </tr>\n",
       "    <tr>\n",
       "      <th>VarPresent</th>\n",
       "      <th></th>\n",
       "      <th></th>\n",
       "    </tr>\n",
       "  </thead>\n",
       "  <tbody>\n",
       "    <tr>\n",
       "      <th>NoVAR</th>\n",
       "      <td>0.490196</td>\n",
       "      <td>306</td>\n",
       "    </tr>\n",
       "    <tr>\n",
       "      <th>VAR</th>\n",
       "      <td>0.444060</td>\n",
       "      <td>867</td>\n",
       "    </tr>\n",
       "  </tbody>\n",
       "</table>\n",
       "</div>"
      ],
      "text/plain": [
       "            prop_won  counts\n",
       "VarPresent                  \n",
       "NoVAR       0.490196     306\n",
       "VAR         0.444060     867"
      ]
     },
     "execution_count": 24,
     "metadata": {},
     "output_type": "execute_result"
    }
   ],
   "source": [
    "prop = Fans.groupby(\"VarPresent\")[\"HomeResult\"].agg([lambda z: np.mean(z==\"W\"), \"size\"])\n",
    "prop.columns = [\"prop_won\", 'counts']\n",
    "prop.head()"
   ]
  },
  {
   "cell_type": "code",
   "execution_count": 25,
   "metadata": {},
   "outputs": [
    {
     "name": "stdout",
     "output_type": "stream",
     "text": [
      "0.033118294393471207\n"
     ]
    }
   ],
   "source": [
    "variance= total_proportion_Won*(1-total_proportion_Won)\n",
    "standard_error= np.sqrt(variance*(1/prop.counts.VAR + 1/prop.counts.NoVAR))\n",
    "print(standard_error)"
   ]
  },
  {
   "cell_type": "code",
   "execution_count": 26,
   "metadata": {},
   "outputs": [
    {
     "name": "stdout",
     "output_type": "stream",
     "text": [
      "-0.046136101499423265\n",
      "-1.39306997369159\n"
     ]
    }
   ],
   "source": [
    "best_estimate= (prop.prop_won.VAR-prop.prop_won.NoVAR)\n",
    "print(best_estimate)\n",
    "\n",
    "h_est=0\n",
    "\n",
    "test_stat= (best_estimate-h_est)/standard_error\n",
    "\n",
    "print(test_stat)"
   ]
  },
  {
   "cell_type": "code",
   "execution_count": 27,
   "metadata": {},
   "outputs": [
    {
     "name": "stdout",
     "output_type": "stream",
     "text": [
      "Computed P-value is 0.1635986319051237\n"
     ]
    }
   ],
   "source": [
    "# Calculate the  p-value\n",
    "pvalue = 2*dist.norm.cdf(-np.abs(test_stat)) # Multiplied by two indicates a two tailed testing.\n",
    "print(\"Computed P-value is\", pvalue)\n",
    "##Not Significant difference"
   ]
  },
  {
   "cell_type": "code",
   "execution_count": 30,
   "metadata": {},
   "outputs": [
    {
     "data": {
      "text/plain": [
       "(   Variable       N      Mean        SD        SE  95% Conf.  Interval\n",
       " 0       VAR   867.0  3.047290  1.679609  0.057043   2.935332  3.159247\n",
       " 1     NoVAR   306.0  2.866013  1.762549  0.100758   2.667744  3.064282\n",
       " 2  combined  1173.0  3.000000  1.702738  0.049716   2.902457  3.097543,\n",
       "             Independent t-test    results\n",
       " 0  Difference (VAR - NoVAR) =      0.1813\n",
       " 1        Degrees of freedom =   1171.0000\n",
       " 2                         t =      1.6022\n",
       " 3     Two side test p value =      0.1094\n",
       " 4    Difference < 0 p value =      0.9453\n",
       " 5    Difference > 0 p value =      0.0547\n",
       " 6                 Cohen's d =      0.1065\n",
       " 7                 Hedge's g =      0.1065\n",
       " 8             Glass's delta =      0.1079\n",
       " 9                         r =      0.0468)"
      ]
     },
     "execution_count": 30,
     "metadata": {},
     "output_type": "execute_result"
    }
   ],
   "source": [
    "rp.ttest(group1= Fans['GoalDifferential'][Fans['VarPresent'] == 'VAR'], group1_name= \"VAR\",\n",
    "         group2= Fans['GoalDifferential'][Fans['VarPresent'] == 'NoVAR'], group2_name= \"NoVAR\")\n",
    "\n",
    "##Not Significant Difference"
   ]
  },
  {
   "cell_type": "code",
   "execution_count": 32,
   "metadata": {},
   "outputs": [
    {
     "data": {
      "text/plain": [
       "(   Variable       N      Mean        SD        SE  95% Conf.  Interval\n",
       " 0       VAR   867.0  0.772074  0.068681  0.002333   0.767496  0.776652\n",
       " 1     NoVAR   306.0  0.750712  0.087308  0.004991   0.740891  0.760534\n",
       " 2  combined  1173.0  0.766501  0.074547  0.002177   0.762231  0.770772,\n",
       "             Independent t-test    results\n",
       " 0  Difference (VAR - NoVAR) =      0.0214\n",
       " 1        Degrees of freedom =   1171.0000\n",
       " 2                         t =      4.3422\n",
       " 3     Two side test p value =      0.0000\n",
       " 4    Difference < 0 p value =      1.0000\n",
       " 5    Difference > 0 p value =      0.0000\n",
       " 6                 Cohen's d =      0.2887\n",
       " 7                 Hedge's g =      0.2885\n",
       " 8             Glass's delta =      0.3110\n",
       " 9                         r =      0.1259)"
      ]
     },
     "execution_count": 32,
     "metadata": {},
     "output_type": "execute_result"
    }
   ],
   "source": [
    "rp.ttest(group1= Fans['HomePassAccuracy'][Fans['VarPresent'] == 'VAR'], group1_name= \"VAR\",\n",
    "         group2= Fans['HomePassAccuracy'][Fans['VarPresent'] == 'NoVAR'], group2_name= \"NoVAR\")\n",
    "\n",
    "#significant Difference use VAR Games for Fan Analysis"
   ]
  },
  {
   "cell_type": "code",
   "execution_count": 33,
   "metadata": {},
   "outputs": [
    {
     "data": {
      "text/plain": [
       "(   Variable       N       Mean        SD        SE  95% Conf.   Interval\n",
       " 0       VAR   867.0  25.816609  7.088996  0.240755  25.344078  26.289140\n",
       " 1     NoVAR   306.0  38.699346  8.975438  0.513092  37.689699  39.708994\n",
       " 2  combined  1173.0  29.177323  9.493446  0.277188  28.633482  29.721164,\n",
       "             Independent t-test    results\n",
       " 0  Difference (VAR - NoVAR) =    -12.8827\n",
       " 1        Degrees of freedom =   1171.0000\n",
       " 2                         t =    -25.4077\n",
       " 3     Two side test p value =      0.0000\n",
       " 4    Difference < 0 p value =      0.0000\n",
       " 5    Difference > 0 p value =      1.0000\n",
       " 6                 Cohen's d =     -1.6894\n",
       " 7                 Hedge's g =     -1.6884\n",
       " 8             Glass's delta =     -1.8173\n",
       " 9                         r =      0.5961)"
      ]
     },
     "execution_count": 33,
     "metadata": {},
     "output_type": "execute_result"
    }
   ],
   "source": [
    "rp.ttest(group1= Fans['HomeTandInt'][Fans['VarPresent'] == 'VAR'], group1_name= \"VAR\",\n",
    "         group2= Fans['HomeTandInt'][Fans['VarPresent'] == 'NoVAR'], group2_name= \"NoVAR\")\n",
    "\n",
    "#significant Difference use VAR Games for Fan Analysis"
   ]
  },
  {
   "cell_type": "code",
   "execution_count": 48,
   "metadata": {},
   "outputs": [
    {
     "data": {
      "text/plain": [
       "(   Variable       N       Mean        SD        SE  95% Conf.   Interval\n",
       " 0       VAR   867.0  16.698962  5.786864  0.196532  16.313227  17.084697\n",
       " 1     NoVAR   306.0  17.633987  6.012830  0.343731  16.957603  18.310370\n",
       " 2  combined  1173.0  16.942882  5.858483  0.171055  16.607273  17.278490,\n",
       "             Independent t-test    results\n",
       " 0  Difference (VAR - NoVAR) =     -0.9350\n",
       " 1        Degrees of freedom =   1171.0000\n",
       " 2                         t =     -2.4052\n",
       " 3     Two side test p value =      0.0163\n",
       " 4    Difference < 0 p value =      0.0082\n",
       " 5    Difference > 0 p value =      0.9918\n",
       " 6                 Cohen's d =     -0.1599\n",
       " 7                 Hedge's g =     -0.1598\n",
       " 8             Glass's delta =     -0.1616\n",
       " 9                         r =      0.0701)"
      ]
     },
     "execution_count": 48,
     "metadata": {},
     "output_type": "execute_result"
    }
   ],
   "source": [
    "rp.ttest(group1= Fans['HomeFoulsandYRcards'][Fans['VarPresent'] == 'VAR'], group1_name= \"VAR\",\n",
    "         group2= Fans['HomeFoulsandYRcards'][Fans['VarPresent'] == 'NoVAR'], group2_name= \"NoVAR\")\n",
    "\n",
    "###significant Difference use VAR Games for Fan Analysis"
   ]
  },
  {
   "cell_type": "code",
   "execution_count": 49,
   "metadata": {},
   "outputs": [
    {
     "data": {
      "text/plain": [
       "(   Variable       N       Mean        SD        SE  95% Conf.   Interval\n",
       " 0       VAR   867.0  18.295271  5.836139  0.198206  17.906251  18.684291\n",
       " 1     NoVAR   306.0  19.375817  5.715031  0.326707  18.732933  20.018701\n",
       " 2  combined  1173.0  18.577153  5.821745  0.169982  18.243649  18.910657,\n",
       "             Independent t-test    results\n",
       " 0  Difference (VAR - NoVAR) =     -1.0805\n",
       " 1        Degrees of freedom =   1171.0000\n",
       " 2                         t =     -2.7995\n",
       " 3     Two side test p value =      0.0052\n",
       " 4    Difference < 0 p value =      0.0026\n",
       " 5    Difference > 0 p value =      0.9974\n",
       " 6                 Cohen's d =     -0.1861\n",
       " 7                 Hedge's g =     -0.1860\n",
       " 8             Glass's delta =     -0.1851\n",
       " 9                         r =      0.0815)"
      ]
     },
     "execution_count": 49,
     "metadata": {},
     "output_type": "execute_result"
    }
   ],
   "source": [
    "rp.ttest(group1= Fans['AwayFoulsandYRcards'][Fans['VarPresent'] == 'VAR'], group1_name= \"VAR\",\n",
    "         group2= Fans['AwayFoulsandYRcards'][Fans['VarPresent'] == 'NoVAR'], group2_name= \"NoVAR\")\n",
    "\n",
    "#significant Difference use VAR Games for Fan Analysis"
   ]
  },
  {
   "cell_type": "markdown",
   "metadata": {},
   "source": [
    "## Measuring the Impact of Fans given VAR Results"
   ]
  },
  {
   "cell_type": "code",
   "execution_count": 50,
   "metadata": {},
   "outputs": [
    {
     "data": {
      "text/html": [
       "<div>\n",
       "<style scoped>\n",
       "    .dataframe tbody tr th:only-of-type {\n",
       "        vertical-align: middle;\n",
       "    }\n",
       "\n",
       "    .dataframe tbody tr th {\n",
       "        vertical-align: top;\n",
       "    }\n",
       "\n",
       "    .dataframe thead th {\n",
       "        text-align: right;\n",
       "    }\n",
       "</style>\n",
       "<table border=\"1\" class=\"dataframe\">\n",
       "  <thead>\n",
       "    <tr style=\"text-align: right;\">\n",
       "      <th>BiAttendance</th>\n",
       "      <th>Fans</th>\n",
       "      <th>NoFans</th>\n",
       "    </tr>\n",
       "    <tr>\n",
       "      <th>HomeResult</th>\n",
       "      <th></th>\n",
       "      <th></th>\n",
       "    </tr>\n",
       "  </thead>\n",
       "  <tbody>\n",
       "    <tr>\n",
       "      <th>L</th>\n",
       "      <td>349</td>\n",
       "      <td>100</td>\n",
       "    </tr>\n",
       "    <tr>\n",
       "      <th>T</th>\n",
       "      <td>289</td>\n",
       "      <td>71</td>\n",
       "    </tr>\n",
       "    <tr>\n",
       "      <th>W</th>\n",
       "      <td>535</td>\n",
       "      <td>96</td>\n",
       "    </tr>\n",
       "  </tbody>\n",
       "</table>\n",
       "</div>"
      ],
      "text/plain": [
       "BiAttendance  Fans  NoFans\n",
       "HomeResult                \n",
       "L              349     100\n",
       "T              289      71\n",
       "W              535      96"
      ]
     },
     "execution_count": 50,
     "metadata": {},
     "output_type": "execute_result"
    }
   ],
   "source": [
    "Table= pd.crosstab(df.HomeResult,df.BiAttendance)\n",
    "Table"
   ]
  },
  {
   "cell_type": "code",
   "execution_count": 51,
   "metadata": {},
   "outputs": [
    {
     "data": {
      "text/html": [
       "<div>\n",
       "<style scoped>\n",
       "    .dataframe tbody tr th:only-of-type {\n",
       "        vertical-align: middle;\n",
       "    }\n",
       "\n",
       "    .dataframe tbody tr th {\n",
       "        vertical-align: top;\n",
       "    }\n",
       "\n",
       "    .dataframe thead th {\n",
       "        text-align: right;\n",
       "    }\n",
       "</style>\n",
       "<table border=\"1\" class=\"dataframe\">\n",
       "  <thead>\n",
       "    <tr style=\"text-align: right;\">\n",
       "      <th>BiAttendance</th>\n",
       "      <th>Fans</th>\n",
       "      <th>NoFans</th>\n",
       "    </tr>\n",
       "    <tr>\n",
       "      <th>HomeResult</th>\n",
       "      <th></th>\n",
       "      <th></th>\n",
       "    </tr>\n",
       "  </thead>\n",
       "  <tbody>\n",
       "    <tr>\n",
       "      <th>L</th>\n",
       "      <td>0.297528</td>\n",
       "      <td>0.374532</td>\n",
       "    </tr>\n",
       "    <tr>\n",
       "      <th>T</th>\n",
       "      <td>0.246377</td>\n",
       "      <td>0.265918</td>\n",
       "    </tr>\n",
       "    <tr>\n",
       "      <th>W</th>\n",
       "      <td>0.456095</td>\n",
       "      <td>0.359551</td>\n",
       "    </tr>\n",
       "  </tbody>\n",
       "</table>\n",
       "</div>"
      ],
      "text/plain": [
       "BiAttendance      Fans    NoFans\n",
       "HomeResult                      \n",
       "L             0.297528  0.374532\n",
       "T             0.246377  0.265918\n",
       "W             0.456095  0.359551"
      ]
     },
     "execution_count": 51,
     "metadata": {},
     "output_type": "execute_result"
    }
   ],
   "source": [
    "pd.crosstab(df.HomeResult,df.BiAttendance).apply(lambda r:r/r.sum(),axis=0)"
   ]
  },
  {
   "cell_type": "code",
   "execution_count": 52,
   "metadata": {},
   "outputs": [],
   "source": [
    "total_proportion_won = (df.HomeResult == \"W\").mean()\n",
    "\n",
    "num_NoFans=df[df.BiAttendance==\"NoFans\"].shape[0]\n",
    "num_Fans=df[df.BiAttendance==\"Fans\"].shape[0]"
   ]
  },
  {
   "cell_type": "code",
   "execution_count": 53,
   "metadata": {},
   "outputs": [],
   "source": [
    "assert num_NoFans*total_proportion_won>10, \"Assumption not met\"\n",
    "assert num_Fans*total_proportion_won>10, \"Assumption not met\"\n",
    "assert num_NoFans*(1-total_proportion_won)>10, \"Assumption not met\"\n",
    "assert num_Fans*(1-total_proportion_won)>10, \"Assumption not met\""
   ]
  },
  {
   "cell_type": "code",
   "execution_count": 54,
   "metadata": {},
   "outputs": [
    {
     "data": {
      "text/html": [
       "<div>\n",
       "<style scoped>\n",
       "    .dataframe tbody tr th:only-of-type {\n",
       "        vertical-align: middle;\n",
       "    }\n",
       "\n",
       "    .dataframe tbody tr th {\n",
       "        vertical-align: top;\n",
       "    }\n",
       "\n",
       "    .dataframe thead th {\n",
       "        text-align: right;\n",
       "    }\n",
       "</style>\n",
       "<table border=\"1\" class=\"dataframe\">\n",
       "  <thead>\n",
       "    <tr style=\"text-align: right;\">\n",
       "      <th></th>\n",
       "      <th>prop_won</th>\n",
       "      <th>counts</th>\n",
       "    </tr>\n",
       "    <tr>\n",
       "      <th>BiAttendance</th>\n",
       "      <th></th>\n",
       "      <th></th>\n",
       "    </tr>\n",
       "  </thead>\n",
       "  <tbody>\n",
       "    <tr>\n",
       "      <th>Fans</th>\n",
       "      <td>0.456095</td>\n",
       "      <td>1173</td>\n",
       "    </tr>\n",
       "    <tr>\n",
       "      <th>NoFans</th>\n",
       "      <td>0.359551</td>\n",
       "      <td>267</td>\n",
       "    </tr>\n",
       "  </tbody>\n",
       "</table>\n",
       "</div>"
      ],
      "text/plain": [
       "              prop_won  counts\n",
       "BiAttendance                  \n",
       "Fans          0.456095    1173\n",
       "NoFans        0.359551     267"
      ]
     },
     "execution_count": 54,
     "metadata": {},
     "output_type": "execute_result"
    }
   ],
   "source": [
    "prop = df.groupby(\"BiAttendance\")[\"HomeResult\"].agg([lambda z: np.mean(z==\"W\"), \"size\"])\n",
    "prop.columns = [\"prop_won\", 'counts']\n",
    "prop.head()"
   ]
  },
  {
   "cell_type": "code",
   "execution_count": 55,
   "metadata": {},
   "outputs": [
    {
     "name": "stdout",
     "output_type": "stream",
     "text": [
      "0.03364364623082332\n"
     ]
    }
   ],
   "source": [
    "variance= total_proportion_won*(1-total_proportion_won)\n",
    "standard_error= np.sqrt(variance*(1/prop.counts.Fans + 1/prop.counts.NoFans))\n",
    "print(standard_error)"
   ]
  },
  {
   "cell_type": "code",
   "execution_count": 56,
   "metadata": {},
   "outputs": [
    {
     "name": "stdout",
     "output_type": "stream",
     "text": [
      "0.09654491987317643\n",
      "2.8696330715998557\n"
     ]
    }
   ],
   "source": [
    "best_estimate= (prop.prop_won.Fans-prop.prop_won.NoFans)\n",
    "print(best_estimate)\n",
    "\n",
    "h_est=0\n",
    "\n",
    "test_stat= (best_estimate-h_est)/standard_error\n",
    "\n",
    "print(test_stat)"
   ]
  },
  {
   "cell_type": "code",
   "execution_count": 57,
   "metadata": {},
   "outputs": [
    {
     "name": "stdout",
     "output_type": "stream",
     "text": [
      "Computed P-value is 0.0041094837257014535\n"
     ]
    }
   ],
   "source": [
    "# Calculate the  p-value\n",
    "pvalue = 2*dist.norm.cdf(-np.abs(test_stat)) # Multiplied by two indicates a two tailed testing.\n",
    "print(\"Computed P-value is\", pvalue)\n",
    "\n",
    "##Significant difference"
   ]
  },
  {
   "cell_type": "code",
   "execution_count": 46,
   "metadata": {},
   "outputs": [
    {
     "data": {
      "text/html": [
       "<div>\n",
       "<style scoped>\n",
       "    .dataframe tbody tr th:only-of-type {\n",
       "        vertical-align: middle;\n",
       "    }\n",
       "\n",
       "    .dataframe tbody tr th {\n",
       "        vertical-align: top;\n",
       "    }\n",
       "\n",
       "    .dataframe thead th {\n",
       "        text-align: right;\n",
       "    }\n",
       "</style>\n",
       "<table border=\"1\" class=\"dataframe\">\n",
       "  <thead>\n",
       "    <tr style=\"text-align: right;\">\n",
       "      <th>BiAttendance</th>\n",
       "      <th>Fans</th>\n",
       "      <th>NoFans</th>\n",
       "    </tr>\n",
       "    <tr>\n",
       "      <th>GoalDifferential</th>\n",
       "      <th></th>\n",
       "      <th></th>\n",
       "    </tr>\n",
       "  </thead>\n",
       "  <tbody>\n",
       "    <tr>\n",
       "      <th>0</th>\n",
       "      <td>67</td>\n",
       "      <td>14</td>\n",
       "    </tr>\n",
       "    <tr>\n",
       "      <th>1</th>\n",
       "      <td>144</td>\n",
       "      <td>36</td>\n",
       "    </tr>\n",
       "    <tr>\n",
       "      <th>2</th>\n",
       "      <td>279</td>\n",
       "      <td>58</td>\n",
       "    </tr>\n",
       "    <tr>\n",
       "      <th>3</th>\n",
       "      <td>275</td>\n",
       "      <td>57</td>\n",
       "    </tr>\n",
       "    <tr>\n",
       "      <th>4</th>\n",
       "      <td>203</td>\n",
       "      <td>52</td>\n",
       "    </tr>\n",
       "    <tr>\n",
       "      <th>5</th>\n",
       "      <td>102</td>\n",
       "      <td>24</td>\n",
       "    </tr>\n",
       "    <tr>\n",
       "      <th>6</th>\n",
       "      <td>68</td>\n",
       "      <td>16</td>\n",
       "    </tr>\n",
       "    <tr>\n",
       "      <th>7</th>\n",
       "      <td>20</td>\n",
       "      <td>8</td>\n",
       "    </tr>\n",
       "    <tr>\n",
       "      <th>8</th>\n",
       "      <td>13</td>\n",
       "      <td>2</td>\n",
       "    </tr>\n",
       "    <tr>\n",
       "      <th>9</th>\n",
       "      <td>2</td>\n",
       "      <td>0</td>\n",
       "    </tr>\n",
       "  </tbody>\n",
       "</table>\n",
       "</div>"
      ],
      "text/plain": [
       "BiAttendance      Fans  NoFans\n",
       "GoalDifferential              \n",
       "0                   67      14\n",
       "1                  144      36\n",
       "2                  279      58\n",
       "3                  275      57\n",
       "4                  203      52\n",
       "5                  102      24\n",
       "6                   68      16\n",
       "7                   20       8\n",
       "8                   13       2\n",
       "9                    2       0"
      ]
     },
     "execution_count": 46,
     "metadata": {},
     "output_type": "execute_result"
    }
   ],
   "source": [
    "Table= pd.crosstab(df.GoalDifferential,df.BiAttendance)\n",
    "Table"
   ]
  },
  {
   "cell_type": "code",
   "execution_count": 58,
   "metadata": {},
   "outputs": [
    {
     "data": {
      "text/plain": [
       "(   Variable       N      Mean        SD        SE  95% Conf.  Interval\n",
       " 0      Fans  1173.0  3.000000  1.702738  0.049716   2.902457  3.097543\n",
       " 1    NoFans   267.0  3.067416  1.730733  0.105919   2.858869  3.275962\n",
       " 2  combined  1440.0  3.012500  1.707559  0.044998   2.924231  3.100769,\n",
       "               Independent t-test    results\n",
       " 0  Difference (Fans - NoFans) =     -0.0674\n",
       " 1          Degrees of freedom =   1438.0000\n",
       " 2                           t =     -0.5821\n",
       " 3       Two side test p value =      0.5606\n",
       " 4      Difference < 0 p value =      0.2803\n",
       " 5      Difference > 0 p value =      0.7197\n",
       " 6                   Cohen's d =     -0.0395\n",
       " 7                   Hedge's g =     -0.0395\n",
       " 8               Glass's delta =     -0.0396\n",
       " 9                           r =      0.0153)"
      ]
     },
     "execution_count": 58,
     "metadata": {},
     "output_type": "execute_result"
    }
   ],
   "source": [
    "rp.ttest(group1= df['GoalDifferential'][df['BiAttendance'] == 'Fans'], group1_name= \"Fans\",\n",
    "         group2= df['GoalDifferential'][df['BiAttendance'] == 'NoFans'], group2_name= \"NoFans\")\n",
    "\n",
    "#No difference"
   ]
  },
  {
   "cell_type": "code",
   "execution_count": 61,
   "metadata": {},
   "outputs": [
    {
     "data": {
      "text/plain": [
       "(   Variable       N      Mean        SD        SE  95% Conf.  Interval\n",
       " 0      Fans   867.0  0.772074  0.068681  0.002333   0.767496  0.776652\n",
       " 1    NoFans   267.0  0.780696  0.062949  0.003852   0.773111  0.788281\n",
       " 2  combined  1134.0  0.774104  0.067447  0.002003   0.770174  0.778034,\n",
       "               Independent t-test    results\n",
       " 0  Difference (Fans - NoFans) =     -0.0086\n",
       " 1          Degrees of freedom =   1132.0000\n",
       " 2                           t =     -1.8284\n",
       " 3       Two side test p value =      0.0677\n",
       " 4      Difference < 0 p value =      0.0339\n",
       " 5      Difference > 0 p value =      0.9661\n",
       " 6                   Cohen's d =     -0.1280\n",
       " 7                   Hedge's g =     -0.1279\n",
       " 8               Glass's delta =     -0.1255\n",
       " 9                           r =      0.0543)"
      ]
     },
     "execution_count": 61,
     "metadata": {},
     "output_type": "execute_result"
    }
   ],
   "source": [
    "rp.ttest(group1= VarGames['HomePassAccuracy'][VarGames['BiAttendance'] == 'Fans'], group1_name= \"Fans\",\n",
    "         group2= VarGames['HomePassAccuracy'][VarGames['BiAttendance'] == 'NoFans'], group2_name= \"NoFans\")\n",
    "#no significant difference"
   ]
  },
  {
   "cell_type": "code",
   "execution_count": 62,
   "metadata": {},
   "outputs": [
    {
     "data": {
      "text/plain": [
       "(   Variable       N       Mean        SD        SE  95% Conf.   Interval\n",
       " 0      Fans   867.0  25.816609  7.088996  0.240755  25.344078  26.289140\n",
       " 1    NoFans   267.0  27.569288  8.000345  0.489613  26.605278  28.533299\n",
       " 2  combined  1134.0  26.229277  7.347892  0.218201  25.801154  26.657400,\n",
       "               Independent t-test    results\n",
       " 0  Difference (Fans - NoFans) =     -1.7527\n",
       " 1          Degrees of freedom =   1132.0000\n",
       " 2                           t =     -3.4241\n",
       " 3       Two side test p value =      0.0006\n",
       " 4      Difference < 0 p value =      0.0003\n",
       " 5      Difference > 0 p value =      0.9997\n",
       " 6                   Cohen's d =     -0.2397\n",
       " 7                   Hedge's g =     -0.2395\n",
       " 8               Glass's delta =     -0.2472\n",
       " 9                           r =      0.1012)"
      ]
     },
     "execution_count": 62,
     "metadata": {},
     "output_type": "execute_result"
    }
   ],
   "source": [
    "rp.ttest(group1= VarGames['HomeTandInt'][VarGames['BiAttendance'] == 'Fans'], group1_name= \"Fans\",\n",
    "         group2= VarGames['HomeTandInt'][VarGames['BiAttendance'] == 'NoFans'], group2_name= \"NoFans\")\n",
    "#significant difference"
   ]
  },
  {
   "cell_type": "code",
   "execution_count": 59,
   "metadata": {},
   "outputs": [
    {
     "data": {
      "text/plain": [
       "(   Variable       N       Mean        SD        SE  95% Conf.   Interval\n",
       " 0      Fans   867.0  16.698962  5.786864  0.196532  16.313227  17.084697\n",
       " 1    NoFans   267.0  18.101124  5.652290  0.345915  17.420045  18.782202\n",
       " 2  combined  1134.0  17.029101  5.783688  0.171751  16.692115  17.366086,\n",
       "               Independent t-test    results\n",
       " 0  Difference (Fans - NoFans) =     -1.4022\n",
       " 1          Degrees of freedom =   1132.0000\n",
       " 2                           t =     -3.4807\n",
       " 3       Two side test p value =      0.0005\n",
       " 4      Difference < 0 p value =      0.0003\n",
       " 5      Difference > 0 p value =      0.9997\n",
       " 6                   Cohen's d =     -0.2436\n",
       " 7                   Hedge's g =     -0.2435\n",
       " 8               Glass's delta =     -0.2423\n",
       " 9                           r =      0.1029)"
      ]
     },
     "execution_count": 59,
     "metadata": {},
     "output_type": "execute_result"
    }
   ],
   "source": [
    "rp.ttest(group1= VarGames['HomeFoulsandYRcards'][VarGames['BiAttendance'] == 'Fans'], group1_name= \"Fans\",\n",
    "         group2= VarGames['HomeFoulsandYRcards'][VarGames['BiAttendance'] == 'NoFans'], group2_name= \"NoFans\")\n",
    "\n",
    "#Significant difference in calls against home team"
   ]
  },
  {
   "cell_type": "code",
   "execution_count": 60,
   "metadata": {},
   "outputs": [
    {
     "data": {
      "text/plain": [
       "(   Variable       N       Mean        SD        SE  95% Conf.   Interval\n",
       " 0      Fans   867.0  18.295271  5.836139  0.198206  17.906251  18.684291\n",
       " 1    NoFans   267.0  18.093633  5.650424  0.345800  17.412779  18.774487\n",
       " 2  combined  1134.0  18.247795  5.791110  0.171971  17.910378  18.585213,\n",
       "               Independent t-test    results\n",
       " 0  Difference (Fans - NoFans) =      0.2016\n",
       " 1          Degrees of freedom =   1132.0000\n",
       " 2                           t =      0.4973\n",
       " 3       Two side test p value =      0.6191\n",
       " 4      Difference < 0 p value =      0.6905\n",
       " 5      Difference > 0 p value =      0.3095\n",
       " 6                   Cohen's d =      0.0348\n",
       " 7                   Hedge's g =      0.0348\n",
       " 8               Glass's delta =      0.0345\n",
       " 9                           r =      0.0148)"
      ]
     },
     "execution_count": 60,
     "metadata": {},
     "output_type": "execute_result"
    }
   ],
   "source": [
    "rp.ttest(group1= VarGames['AwayFoulsandYRcards'][VarGames['BiAttendance'] == 'Fans'], group1_name= \"Fans\",\n",
    "         group2= VarGames['AwayFoulsandYRcards'][VarGames['BiAttendance'] == 'NoFans'], group2_name= \"NoFans\")\n",
    "\n",
    "#no significant difference in calls against the away team"
   ]
  }
 ],
 "metadata": {
  "kernelspec": {
   "display_name": "Python 3",
   "language": "python",
   "name": "python3"
  },
  "language_info": {
   "codemirror_mode": {
    "name": "ipython",
    "version": 3
   },
   "file_extension": ".py",
   "mimetype": "text/x-python",
   "name": "python",
   "nbconvert_exporter": "python",
   "pygments_lexer": "ipython3",
   "version": "3.7.6"
  }
 },
 "nbformat": 4,
 "nbformat_minor": 4
}
